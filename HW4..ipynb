﻿{
  "metadata": {
    "name": "HW4",
    "kernelspec": {
      "language": "scala",
      "name": "spark2-scala"
    },
    "language_info": {
      "codemirror_mode": "text/x-scala",
      "file_extension": ".scala",
      "mimetype": "text/x-scala",
      "name": "scala",
      "pygments_lexer": "scala"
    }
  },
  "nbformat": 4,
  "nbformat_minor": 2,
  "cells": [
    {
      "cell_type": "code",
      "execution_count": 0,
      "metadata": {
        "autoscroll": "auto"
      },
      "outputs": [],
      "source": "val spark \u003d SparkSession.builder()\n    // адрес мастера\n    .master(\"local[*]\")\n    // имя приложения в интерфейсе спарка\n    .appName(\"made-demo\")\n//     .config(\"spark.executor.memory\",  \"2g\")\n//     .config(\"spark.executor.cores\", \"2\")\n//     .config(\"spark.driver.memory\", \"2g\")\n    .getOrCreate()"
    },
    {
      "cell_type": "code",
      "execution_count": 1,
      "metadata": {
        "autoscroll": "auto"
      },
      "outputs": [],
      "source": "import org.apache.spark.sql._\nimport org.apache.spark.sql.types._\nimport org.apache.spark.sql.functions._\nimport spark.implicits._"
    },
    {
      "cell_type": "code",
      "execution_count": 2,
      "metadata": {
        "autoscroll": "auto"
      },
      "outputs": [],
      "source": "val df \u003d spark.read\n    .option(\"header\", \"true\")\n    .option(\"inferSchema\", \"true\")\n    .option(\"sep\", \",\")\n    .csv(\"/srv/data/example/tripadvisor_hotel_reviews.csv\")\n\ndf.show()"
    },
    {
      "cell_type": "code",
      "execution_count": 3,
      "metadata": {
        "autoscroll": "auto"
      },
      "outputs": [],
      "source": "val words_lists \u003d df.select(\n    monotonically_increasing_id().as(\"docID\"),\n    split(regexp_replace(lower(col(\"Review\")), \"[^\\\\w\\\\s]\", \"\"), \"\\\\s\").as(\"words\")\n).withColumn(\"len\", size(col(\"words\")))\n\nwords_lists.show"
    },
    {
      "cell_type": "code",
      "execution_count": 4,
      "metadata": {
        "autoscroll": "auto"
      },
      "outputs": [],
      "source": "val docN \u003d splitted.select(count(\"docID\")).first"
    },
    {
      "cell_type": "code",
      "execution_count": 5,
      "metadata": {
        "autoscroll": "auto"
      },
      "outputs": [],
      "source": "val words \u003d  words_lists.select(\n        explode(col(\"words\")).as(\"words\"),\n        col(\"docID\"), col(\"len\"))\n    .filter(col(\"words\") !\u003d\u003d \"\")\n    \n words.show"
    },
    {
      "cell_type": "code",
      "execution_count": 6,
      "metadata": {
        "autoscroll": "auto"
      },
      "outputs": [],
      "source": "val wordCount \u003d words.distinct().groupBy(\"words\").count().orderBy(desc(\"count\")).limit(100)\n\nwordCount.show"
    },
    {
      "cell_type": "code",
      "execution_count": 7,
      "metadata": {
        "autoscroll": "auto"
      },
      "outputs": [],
      "source": "val top100 \u003d wordCount.select(col(\"words\"),\n                              log(lit(docN)/col(\"count\")).as(\"idf\"))\n                              \ntop100.show"
    },
    {
      "cell_type": "code",
      "execution_count": 8,
      "metadata": {
        "autoscroll": "auto"
      },
      "outputs": [],
      "source": "val word_freq \u003d words.groupBy(\"words\", \"docID\", \"len\").count()\n\nword_freq.show"
    },
    {
      "cell_type": "code",
      "execution_count": 9,
      "metadata": {
        "autoscroll": "auto"
      },
      "outputs": [],
      "source": "word_freq.filter(col(\"docID\") \u003d\u003d\u003d 0).show"
    },
    {
      "cell_type": "code",
      "execution_count": 10,
      "metadata": {
        "autoscroll": "auto"
      },
      "outputs": [],
      "source": "val tf \u003d freq.filter(col(\"len\") \u003e 0)\n    .select(col(\"words\"),\n            (col(\"count\")/col(\"len\")).as(\"tf\"),\n            col(\"docID\"))\n            \ntf.show"
    },
    {
      "cell_type": "code",
      "execution_count": 11,
      "metadata": {
        "autoscroll": "auto"
      },
      "outputs": [],
      "source": "val join \u003d tf.select(col(\"words\"), col(\"tf\"), col(\"docID\"))\n    .join(top100, col(\"words\") \u003d\u003d col(\"words\"))"
    },
    {
      "cell_type": "code",
      "execution_count": 12,
      "metadata": {
        "autoscroll": "auto"
      },
      "outputs": [],
      "source": "val innerJoin \u003d tf.join(top100,\"words\")\n\ninnerJoin.show"
    },
    {
      "cell_type": "code",
      "execution_count": 13,
      "metadata": {
        "autoscroll": "auto"
      },
      "outputs": [],
      "source": "val output \u003d innerJoin.select(\n    col(\"words\"),\n    col(\"docID\"),\n    (col(\"tf\")*col(\"idf\")).as(\"tf-idf\"))\n    \noutput.show"
    },
    {
      "cell_type": "code",
      "execution_count": 14,
      "metadata": {
        "autoscroll": "auto"
      },
      "outputs": [],
      "source": "output.select(count(\"*\")).first\n"
    },
    {
      "cell_type": "code",
      "execution_count": 15,
      "metadata": {
        "autoscroll": "auto"
      },
      "outputs": [],
      "source": "output.write.format(\"com.databricks.spark.csv\")\n      .option(\"delimiter\", \",\")\n      .option(\"header\", \"true\")\n      .save(\"ifidf_data\")"
    }
  ]
}