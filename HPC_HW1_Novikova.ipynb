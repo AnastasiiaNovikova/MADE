{
 "cells": [
  {
   "cell_type": "code",
   "execution_count": 1,
   "metadata": {},
   "outputs": [],
   "source": [
    "! cd Desktop/MADE/HPC/"
   ]
  },
  {
   "cell_type": "code",
   "execution_count": 10,
   "metadata": {},
   "outputs": [],
   "source": [
    "import pandas as pd\n",
    "import numpy as np\n",
    "\n",
    "from matplotlib.pyplot import figure\n",
    "import matplotlib.pyplot as plt\n",
    "\n",
    "from pylab import rcParams"
   ]
  },
  {
   "cell_type": "markdown",
   "metadata": {},
   "source": [
    "## Task 1"
   ]
  },
  {
   "cell_type": "code",
   "execution_count": 3,
   "metadata": {},
   "outputs": [],
   "source": [
    "data = pd.read_csv(\"Desktop/MADE/HPC/data.csv\", header=None)"
   ]
  },
  {
   "cell_type": "code",
   "execution_count": 5,
   "metadata": {},
   "outputs": [
    {
     "data": {
      "text/html": [
       "<div>\n",
       "<style scoped>\n",
       "    .dataframe tbody tr th:only-of-type {\n",
       "        vertical-align: middle;\n",
       "    }\n",
       "\n",
       "    .dataframe tbody tr th {\n",
       "        vertical-align: top;\n",
       "    }\n",
       "\n",
       "    .dataframe thead th {\n",
       "        text-align: right;\n",
       "    }\n",
       "</style>\n",
       "<table border=\"1\" class=\"dataframe\">\n",
       "  <thead>\n",
       "    <tr style=\"text-align: right;\">\n",
       "      <th></th>\n",
       "      <th>0</th>\n",
       "      <th>1</th>\n",
       "      <th>2</th>\n",
       "      <th>3</th>\n",
       "      <th>4</th>\n",
       "      <th>5</th>\n",
       "      <th>6</th>\n",
       "    </tr>\n",
       "  </thead>\n",
       "  <tbody>\n",
       "    <tr>\n",
       "      <th>0</th>\n",
       "      <td>1993-5-1</td>\n",
       "      <td>1128.57</td>\n",
       "      <td>06/1993: Sum = 1.1 TFlop/s</td>\n",
       "      <td>59.7</td>\n",
       "      <td>06/1993: #1 = 59.7 GFlop/s</td>\n",
       "      <td>0.42</td>\n",
       "      <td>06/1993: #500 = 0.4 GFlop/s]</td>\n",
       "    </tr>\n",
       "    <tr>\n",
       "      <th>1</th>\n",
       "      <td>1993-10-1</td>\n",
       "      <td>1493.35</td>\n",
       "      <td>11/1993: Sum = 1.5 TFlop/s</td>\n",
       "      <td>124.0</td>\n",
       "      <td>11/1993: #1 = 124.0 GFlop/s</td>\n",
       "      <td>0.47</td>\n",
       "      <td>11/1993: #500 = 0.5 GFlop/s]</td>\n",
       "    </tr>\n",
       "    <tr>\n",
       "      <th>2</th>\n",
       "      <td>1994-5-1</td>\n",
       "      <td>2317.01</td>\n",
       "      <td>06/1994: Sum = 2.3 TFlop/s</td>\n",
       "      <td>143.4</td>\n",
       "      <td>06/1994: #1 = 143.4 GFlop/s</td>\n",
       "      <td>0.84</td>\n",
       "      <td>06/1994: #500 = 0.8 GFlop/s]</td>\n",
       "    </tr>\n",
       "  </tbody>\n",
       "</table>\n",
       "</div>"
      ],
      "text/plain": [
       "           0        1                           2      3  \\\n",
       "0   1993-5-1  1128.57  06/1993: Sum = 1.1 TFlop/s   59.7   \n",
       "1  1993-10-1  1493.35  11/1993: Sum = 1.5 TFlop/s  124.0   \n",
       "2   1994-5-1  2317.01  06/1994: Sum = 2.3 TFlop/s  143.4   \n",
       "\n",
       "                             4     5                             6  \n",
       "0   06/1993: #1 = 59.7 GFlop/s  0.42  06/1993: #500 = 0.4 GFlop/s]  \n",
       "1  11/1993: #1 = 124.0 GFlop/s  0.47  11/1993: #500 = 0.5 GFlop/s]  \n",
       "2  06/1994: #1 = 143.4 GFlop/s  0.84  06/1994: #500 = 0.8 GFlop/s]  "
      ]
     },
     "execution_count": 5,
     "metadata": {},
     "output_type": "execute_result"
    }
   ],
   "source": [
    "data.head(n=3)"
   ]
  },
  {
   "cell_type": "code",
   "execution_count": 6,
   "metadata": {},
   "outputs": [
    {
     "data": {
      "text/html": [
       "<div>\n",
       "<style scoped>\n",
       "    .dataframe tbody tr th:only-of-type {\n",
       "        vertical-align: middle;\n",
       "    }\n",
       "\n",
       "    .dataframe tbody tr th {\n",
       "        vertical-align: top;\n",
       "    }\n",
       "\n",
       "    .dataframe thead th {\n",
       "        text-align: right;\n",
       "    }\n",
       "</style>\n",
       "<table border=\"1\" class=\"dataframe\">\n",
       "  <thead>\n",
       "    <tr style=\"text-align: right;\">\n",
       "      <th></th>\n",
       "      <th>0</th>\n",
       "      <th>1</th>\n",
       "      <th>2</th>\n",
       "      <th>3</th>\n",
       "      <th>4</th>\n",
       "      <th>5</th>\n",
       "      <th>6</th>\n",
       "    </tr>\n",
       "  </thead>\n",
       "  <tbody>\n",
       "    <tr>\n",
       "      <th>54</th>\n",
       "      <td>2020-5-1</td>\n",
       "      <td>2.206134e+09</td>\n",
       "      <td>06/2020: Sum = 2.2 EFlop/s</td>\n",
       "      <td>415530000.0</td>\n",
       "      <td>06/2020: #1 = 415.5 PFlop/s</td>\n",
       "      <td>1228000.0</td>\n",
       "      <td>06/2020: #500 = 1.2 PFlop/s]</td>\n",
       "    </tr>\n",
       "    <tr>\n",
       "      <th>55</th>\n",
       "      <td>2020-10-1</td>\n",
       "      <td>2.428762e+09</td>\n",
       "      <td>11/2020: Sum = 2.4 EFlop/s</td>\n",
       "      <td>442010000.0</td>\n",
       "      <td>11/2020: #1 = 442.0 PFlop/s</td>\n",
       "      <td>1316840.0</td>\n",
       "      <td>11/2020: #500 = 1.3 PFlop/s]</td>\n",
       "    </tr>\n",
       "    <tr>\n",
       "      <th>56</th>\n",
       "      <td>2021-5-1</td>\n",
       "      <td>2.786059e+09</td>\n",
       "      <td>06/2021: Sum = 2.8 EFlop/s</td>\n",
       "      <td>442010000.0</td>\n",
       "      <td>06/2021: #1 = 442.0 PFlop/s</td>\n",
       "      <td>1511000.0</td>\n",
       "      <td>06/2021: #500 = 1.5 PFlop/s]</td>\n",
       "    </tr>\n",
       "  </tbody>\n",
       "</table>\n",
       "</div>"
      ],
      "text/plain": [
       "            0             1                           2            3  \\\n",
       "54   2020-5-1  2.206134e+09  06/2020: Sum = 2.2 EFlop/s  415530000.0   \n",
       "55  2020-10-1  2.428762e+09  11/2020: Sum = 2.4 EFlop/s  442010000.0   \n",
       "56   2021-5-1  2.786059e+09  06/2021: Sum = 2.8 EFlop/s  442010000.0   \n",
       "\n",
       "                              4          5                             6  \n",
       "54  06/2020: #1 = 415.5 PFlop/s  1228000.0  06/2020: #500 = 1.2 PFlop/s]  \n",
       "55  11/2020: #1 = 442.0 PFlop/s  1316840.0  11/2020: #500 = 1.3 PFlop/s]  \n",
       "56  06/2021: #1 = 442.0 PFlop/s  1511000.0  06/2021: #500 = 1.5 PFlop/s]  "
      ]
     },
     "execution_count": 6,
     "metadata": {},
     "output_type": "execute_result"
    }
   ],
   "source": [
    "data.tail(n=3)"
   ]
  },
  {
   "cell_type": "code",
   "execution_count": 7,
   "metadata": {},
   "outputs": [],
   "source": [
    "sample_data = data.iloc[::4, :]"
   ]
  },
  {
   "cell_type": "code",
   "execution_count": 13,
   "metadata": {},
   "outputs": [
    {
     "data": {
      "image/png": "[encoded data removed]",
      "text/plain": [
       "<Figure size 1080x360 with 1 Axes>"
      ]
     },
     "metadata": {
      "needs_background": "light"
     },
     "output_type": "display_data"
    }
   ],
   "source": [
    "rcParams['figure.figsize'] = 15, 5\n",
    "\n",
    "sample_data.plot(kind='scatter',x=0,y=4,color='red')\n",
    "plt.show()"
   ]
  },
  {
   "cell_type": "code",
   "execution_count": 14,
   "metadata": {},
   "outputs": [],
   "source": [
    "def process_row(s):\n",
    "    date, _, _, val, n_flops = s.split()\n",
    "    date = date.rstrip(\":\")\n",
    "    val = float(val)\n",
    "    return date, val, n_flops"
   ]
  },
  {
   "cell_type": "code",
   "execution_count": 15,
   "metadata": {},
   "outputs": [],
   "source": [
    "# all_n_flops = set()\n",
    "month_years = []\n",
    "vals = []\n",
    "\n",
    "n_flops_mapping = {'GFlop/s': 10 ** 9, 'PFlop/s': 10 ** 15, 'TFlop/s': 10 ** 12}\n",
    "\n",
    "for s in data[4].values:\n",
    "    date, val, n_flops = process_row(s)\n",
    "    n_flops = n_flops_mapping[n_flops]\n",
    "    val = float(val) * n_flops\n",
    "    month_years.append(date)\n",
    "    vals.append(val)\n",
    "# all_n_flops"
   ]
  },
  {
   "cell_type": "code",
   "execution_count": 19,
   "metadata": {},
   "outputs": [
    {
     "data": {
      "image/png": "[encoded data removed]",
      "text/plain": [
       "<Figure size 720x360 with 1 Axes>"
      ]
     },
     "metadata": {
      "needs_background": "light"
     },
     "output_type": "display_data"
    }
   ],
   "source": [
    "from pylab import rcParams\n",
    "rcParams['figure.figsize'] = 10, 5\n",
    "\n",
    "plt.plot(month_years, vals)\n",
    "plt.show()"
   ]
  },
  {
   "cell_type": "code",
   "execution_count": 20,
   "metadata": {},
   "outputs": [],
   "source": [
    "log_vals = []\n",
    "for val in vals:\n",
    "    log_vals.append(np.log(val))\n",
    "#log_vals"
   ]
  },
  {
   "cell_type": "code",
   "execution_count": 21,
   "metadata": {},
   "outputs": [
    {
     "data": {
      "image/png": "[encoded data removed]",
      "text/plain": [
       "<Figure size 720x360 with 1 Axes>"
      ]
     },
     "metadata": {
      "needs_background": "light"
     },
     "output_type": "display_data"
    }
   ],
   "source": [
    "from pylab import rcParams\n",
    "rcParams['figure.figsize'] = 10, 5\n",
    "\n",
    "plt.plot(month_years, log_vals)\n",
    "plt.show()"
   ]
  },
  {
   "cell_type": "code",
   "execution_count": 23,
   "metadata": {},
   "outputs": [
    {
     "name": "stdout",
     "output_type": "stream",
     "text": [
      "[4.66587763e+17]\n"
     ]
    }
   ],
   "source": [
    "from statsmodels.tsa.arima.model import ARIMA\n",
    "from random import random\n",
    "\n",
    "\n",
    "model = ARIMA(vals, order=(1, 1, 1))\n",
    "# (p,d,q) - autoregressive, differences, and moving average components, chosen using train data\n",
    "\n",
    "model_fit = model.fit()\n",
    "\n",
    "# make prediction\n",
    "y_pred = model_fit.predict(len(data), len(data), typ='levels')\n",
    "print(y_pred)"
   ]
  },
  {
   "cell_type": "code",
   "execution_count": 25,
   "metadata": {},
   "outputs": [
    {
     "name": "stdout",
     "output_type": "stream",
     "text": [
      "[1.486e+17, 4.155e+17, 4.42e+17, 4.42e+17]\n"
     ]
    }
   ],
   "source": [
    "print(vals[-4:])"
   ]
  },
  {
   "cell_type": "markdown",
   "metadata": {},
   "source": [
    "## Task 2"
   ]
  },
  {
   "cell_type": "code",
   "execution_count": 26,
   "metadata": {},
   "outputs": [],
   "source": [
    "data2 = pd.read_csv(\"Desktop/MADE/HPC/data2.csv\", sep=\";\")"
   ]
  },
  {
   "cell_type": "code",
   "execution_count": 28,
   "metadata": {},
   "outputs": [
    {
     "data": {
      "text/html": [
       "<div>\n",
       "<style scoped>\n",
       "    .dataframe tbody tr th:only-of-type {\n",
       "        vertical-align: middle;\n",
       "    }\n",
       "\n",
       "    .dataframe tbody tr th {\n",
       "        vertical-align: top;\n",
       "    }\n",
       "\n",
       "    .dataframe thead th {\n",
       "        text-align: right;\n",
       "    }\n",
       "</style>\n",
       "<table border=\"1\" class=\"dataframe\">\n",
       "  <thead>\n",
       "    <tr style=\"text-align: right;\">\n",
       "      <th></th>\n",
       "      <th>Rank</th>\n",
       "      <th>Manufacturer</th>\n",
       "      <th>Power (kW)</th>\n",
       "    </tr>\n",
       "  </thead>\n",
       "  <tbody>\n",
       "    <tr>\n",
       "      <th>0</th>\n",
       "      <td>1</td>\n",
       "      <td>Fujitsu</td>\n",
       "      <td>29 899,23</td>\n",
       "    </tr>\n",
       "    <tr>\n",
       "      <th>1</th>\n",
       "      <td>2</td>\n",
       "      <td>IBM</td>\n",
       "      <td>10 096,00</td>\n",
       "    </tr>\n",
       "    <tr>\n",
       "      <th>2</th>\n",
       "      <td>3</td>\n",
       "      <td>IBM / NVIDIA / Mellanox</td>\n",
       "      <td>7 438,28</td>\n",
       "    </tr>\n",
       "  </tbody>\n",
       "</table>\n",
       "</div>"
      ],
      "text/plain": [
       "   Rank             Manufacturer Power (kW)\n",
       "0     1                  Fujitsu  29 899,23\n",
       "1     2                      IBM  10 096,00\n",
       "2     3  IBM / NVIDIA / Mellanox   7 438,28"
      ]
     },
     "execution_count": 28,
     "metadata": {},
     "output_type": "execute_result"
    }
   ],
   "source": [
    "data2[[\"Rank\", 'Manufacturer', \"Power (kW)\"]].head(n=3)"
   ]
  },
  {
   "cell_type": "code",
   "execution_count": null,
   "metadata": {},
   "outputs": [],
   "source": [
    "# for i in range(len(data2.columns)):\n",
    "#     col = data2.columns[i]\n",
    "#     print(\"col:\", col)\n",
    "#     vals = data2[col]\n",
    "#     print(vals[:3])\n",
    "#     print(\"\\n\")"
   ]
  },
  {
   "cell_type": "code",
   "execution_count": 29,
   "metadata": {},
   "outputs": [
    {
     "data": {
      "text/plain": [
       "Rank                                 0\n",
       "Previous Rank                       58\n",
       "First Appearance                     0\n",
       "First Rank                           0\n",
       "Name                               178\n",
       "Computer                             0\n",
       "Site                                 0\n",
       "Manufacturer                         0\n",
       "Country                              0\n",
       "Year                                 0\n",
       "Segment                              0\n",
       "Total Cores                          0\n",
       "Accelerator/Co-Processor Cores     352\n",
       "Rmax [TFlop/s]                       0\n",
       "Rpeak [TFlop/s]                      0\n",
       "Nmax                                 4\n",
       "Nhalf                              487\n",
       "HPCG [TFlop/s]                     413\n",
       "Power (kW)                         319\n",
       "Power Source                       319\n",
       "Power Efficiency [GFlops/Watts]    319\n",
       "Memory                             499\n",
       "Architecture                         0\n",
       "Processor                            0\n",
       "Processor Technology                 0\n",
       "Processor Speed (MHz)                0\n",
       "Operating System                     0\n",
       "OS Family                            0\n",
       "Accelerator/Co-Processor             0\n",
       "Cores per Socket                     0\n",
       "Processor Generation                 0\n",
       "System Model                         0\n",
       "System Family                        0\n",
       "Interconnect Family                  0\n",
       "Interconnect                         0\n",
       "Continent                            0\n",
       "Site ID                              0\n",
       "System ID                            0\n",
       "dtype: int64"
      ]
     },
     "execution_count": 29,
     "metadata": {},
     "output_type": "execute_result"
    }
   ],
   "source": [
    "data2.isna().sum()"
   ]
  },
  {
   "cell_type": "code",
   "execution_count": 30,
   "metadata": {},
   "outputs": [
    {
     "data": {
      "text/plain": [
       "1900.5513812154695"
      ]
     },
     "execution_count": 30,
     "metadata": {},
     "output_type": "execute_result"
    }
   ],
   "source": [
    "def process_power(s):\n",
    "    try:\n",
    "        return float(s.replace('\\xa0', \"\").replace(\",\", \".\"))\n",
    "    except AttributeError:\n",
    "        return None\n",
    "\n",
    "powers = data2[\"Power (kW)\"]\n",
    "vals = powers.values\n",
    "processed_powers = []\n",
    "total_power = 0\n",
    "filled_vals = []\n",
    "for power in powers:\n",
    "    processed_power = process_power(power)\n",
    "    if processed_power is not None:\n",
    "        total_power += processed_power\n",
    "        filled_vals.append(processed_power)\n",
    "        \n",
    "    processed_powers.append(processed_power)\n",
    "\n",
    "aver_power = sum(filled_vals) / len(filled_vals)\n",
    "aver_power"
   ]
  },
  {
   "cell_type": "code",
   "execution_count": 31,
   "metadata": {},
   "outputs": [
    {
     "data": {
      "text/plain": [
       "(array([66., 48., 37.,  4.,  5.,  3.,  4.,  2.,  1.,  0.,  1.,  0.,  2.,\n",
       "         0.,  0.,  0.,  1.,  0.,  0.,  0.,  0.,  0.,  2.,  0.,  0.,  3.,\n",
       "         0.,  0.,  0.,  0.,  1.,  0.,  0.,  0.,  0.,  0.,  0.,  0.,  0.,\n",
       "         0.,  0.,  0.,  0.,  0.,  0.,  0.,  0.,  0.,  0.,  1.]),\n",
       " array([   61.36  ,   658.1174,  1254.8748,  1851.6322,  2448.3896,\n",
       "         3045.147 ,  3641.9044,  4238.6618,  4835.4192,  5432.1766,\n",
       "         6028.934 ,  6625.6914,  7222.4488,  7819.2062,  8415.9636,\n",
       "         9012.721 ,  9609.4784, 10206.2358, 10802.9932, 11399.7506,\n",
       "        11996.508 , 12593.2654, 13190.0228, 13786.7802, 14383.5376,\n",
       "        14980.295 , 15577.0524, 16173.8098, 16770.5672, 17367.3246,\n",
       "        17964.082 , 18560.8394, 19157.5968, 19754.3542, 20351.1116,\n",
       "        20947.869 , 21544.6264, 22141.3838, 22738.1412, 23334.8986,\n",
       "        23931.656 , 24528.4134, 25125.1708, 25721.9282, 26318.6856,\n",
       "        26915.443 , 27512.2004, 28108.9578, 28705.7152, 29302.4726,\n",
       "        29899.23  ]),\n",
       " <BarContainer object of 50 artists>)"
      ]
     },
     "execution_count": 31,
     "metadata": {},
     "output_type": "execute_result"
    },
    {
     "data": {
      "image/png": "[encoded data removed]",
      "text/plain": [
       "<Figure size 720x360 with 1 Axes>"
      ]
     },
     "metadata": {
      "needs_background": "light"
     },
     "output_type": "display_data"
    }
   ],
   "source": [
    "plt.hist(filled_vals, bins=50)"
   ]
  },
  {
   "cell_type": "code",
   "execution_count": 32,
   "metadata": {},
   "outputs": [
    {
     "data": {
      "text/plain": [
       "943.12"
      ]
     },
     "execution_count": 32,
     "metadata": {},
     "output_type": "execute_result"
    }
   ],
   "source": [
    "median_val = np.median(filled_vals)\n",
    "median_val"
   ]
  },
  {
   "cell_type": "code",
   "execution_count": 33,
   "metadata": {},
   "outputs": [],
   "source": [
    "for i in range(len(processed_powers)):\n",
    "    if processed_powers[i] is None:\n",
    "        processed_powers[i] = median_val"
   ]
  },
  {
   "cell_type": "code",
   "execution_count": 34,
   "metadata": {},
   "outputs": [
    {
     "data": {
      "text/plain": [
       "644855.0799999987"
      ]
     },
     "execution_count": 34,
     "metadata": {},
     "output_type": "execute_result"
    }
   ],
   "source": [
    "total_poweer = sum(processed_powers)\n",
    "total_poweer"
   ]
  },
  {
   "cell_type": "code",
   "execution_count": 35,
   "metadata": {},
   "outputs": [
    {
     "data": {
      "text/plain": [
       "2.3883521481481434e-06"
      ]
     },
     "execution_count": 35,
     "metadata": {},
     "output_type": "execute_result"
    }
   ],
   "source": [
    "# https://yearbook.enerdata.ru/total-energy/world-energy-production.html\n",
    "total = 2.7 * 10 ** 13 # total ~2700 TWh for 2020\n",
    "\n",
    "proporsion = total_poweer / total * 100\n",
    "proporsion"
   ]
  },
  {
   "cell_type": "code",
   "execution_count": null,
   "metadata": {},
   "outputs": [],
   "source": []
  }
 ],
 "metadata": {
  "kernelspec": {
   "display_name": "Python 3",
   "language": "python",
   "name": "python3"
  },
  "language_info": {
   "codemirror_mode": {
    "name": "ipython",
    "version": 3
   },
   "file_extension": ".py",
   "mimetype": "text/x-python",
   "name": "python",
   "nbconvert_exporter": "python",
   "pygments_lexer": "ipython3",
   "version": "3.8.5"
  }
 },
 "nbformat": 4,
 "nbformat_minor": 4
}
