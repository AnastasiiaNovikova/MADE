{
 "cells": [
  {
   "cell_type": "code",
   "execution_count": 1,
   "metadata": {},
   "outputs": [],
   "source": [
    "import json\n",
    "import math\n",
    "import random\n",
    "import pickle\n",
    "import time\n",
    "from datetime import datetime\n",
    "from itertools import count\n",
    "from collections import OrderedDict, defaultdict, namedtuple\n",
    "from joblib import Parallel, delayed\n",
    "import multiprocessing\n",
    "import cProfile\n",
    "\n",
    "from tqdm.notebook import trange, tqdm\n",
    "import matplotlib as mpl\n",
    "import matplotlib.pyplot as plt\n",
    "import seaborn as sns\n",
    "import numpy as np\n",
    "import scipy as sp\n",
    "import scipy.stats as st\n",
    "import scipy.integrate as integrate\n",
    "from scipy.stats import multivariate_normal\n",
    "from sklearn import linear_model\n",
    "from sklearn.exceptions import ConvergenceWarning\n",
    "import statsmodels.api as sm\n",
    "from matplotlib.colors import LogNorm\n",
    "\n",
    "import torch\n",
    "import torch.nn as nn\n",
    "import torch.optim as optim\n",
    "import torch.nn.functional as F\n",
    "import torchvision.transforms as T\n",
    "from torch.autograd import Variable\n",
    "\n",
    "import gym"
   ]
  },
  {
   "cell_type": "code",
   "execution_count": 3,
   "metadata": {},
   "outputs": [],
   "source": [
    "GAMMA = 1\n",
    "ROWS_NUM = 3\n",
    "COLS_NUM = 3\n",
    "NUM_WIN = 3"
   ]
  },
  {
   "cell_type": "code",
   "execution_count": 4,
   "metadata": {},
   "outputs": [],
   "source": [
    "class TicTacToe(gym.Env):\n",
    "    def __init__(self, rows_num=ROWS_NUM, cols_num=COLS_NUM, win_num=NUM_WIN):\n",
    "        self.rows_num = rows_num\n",
    "        self.cols_num = cols_num\n",
    "        self.win_num = win_num\n",
    "        self.board = np.zeros((self.rows_num, self.cols_num), dtype=int)\n",
    "        self.game_over = False\n",
    "        self.board_hash = None\n",
    "        self.cur_turn = 1\n",
    "        self.empties = None\n",
    "        self.reset()\n",
    "        \n",
    "    def move(self, player, i, j):\n",
    "        self.board[i, j] = player\n",
    "        self.empties = None\n",
    "        self.board_hash = None\n",
    "\n",
    "    def get_empties(self):\n",
    "        if self.empties is None:\n",
    "            res = np.where(self.board == 0)\n",
    "            self.empties = np.array(\n",
    "                [(i, j) for i,j in zip(res[0], res[1])]\n",
    "            )\n",
    "        return self.empties\n",
    "\n",
    "    def get_hash(self):\n",
    "        if self.board_hash is None:\n",
    "            self.board_hash = ''.join(\n",
    "                ['%s' % (x+1) for x in self.board.reshape(self.rows_num * self.cols_num)]\n",
    "            )\n",
    "        return self.board_hash\n",
    "\n",
    "    def is_fin(self):\n",
    "        cur_marks = np.where(self.board == self.cur_turn)\n",
    "        cur_p = self.cur_turn\n",
    "        for i, j in zip(cur_marks[0], cur_marks[1]):\n",
    "            win = False\n",
    "            if i <= self.rows_num - self.win_num:\n",
    "                if np.all(self.board[i:i+self.win_num, j] == cur_p):\n",
    "                    win = True\n",
    "            if not win:\n",
    "                if j <= self.cols_num - self.win_num:\n",
    "                    if np.all(self.board[i,j:j+self.win_num] == cur_p):\n",
    "                        win = True\n",
    "            if not win:\n",
    "                if i <= self.rows_num - self.win_num and j <= self.cols_num - self.win_num:\n",
    "                    if np.all(\n",
    "                        np.array(\n",
    "                            [self.board[i+k,j+k] == cur_p for k in range(self.win_num)]\n",
    "                        )\n",
    "                    ):\n",
    "                        win = True\n",
    "            if not win:\n",
    "                if i <= self.rows_num - self.win_num and j >= self.win_num - 1:\n",
    "                    if np.all(\n",
    "                        np.array(\n",
    "                            [self.board[i+k,j-k] == cur_p for k in range(self.win_num)]\n",
    "                        )\n",
    "                    ):\n",
    "                        win = True\n",
    "            if win:\n",
    "                self.game_over = True\n",
    "                return self.cur_turn\n",
    "        if len(self.get_empties()) == 0:\n",
    "            self.game_over = True\n",
    "            return 0\n",
    "\n",
    "        self.game_over = False\n",
    "        return \n",
    "\n",
    "    def get_state(self):\n",
    "        res = (self.get_hash(), self.get_empties(), self.cur_turn)\n",
    "        return res\n",
    "\n",
    "    def get_act_from_int(self, act_int):\n",
    "        res = (int(act_int / self.cols_num), int(act_int % self.cols_num))\n",
    "        return res\n",
    "\n",
    "    def get_int_from_act(self, act):\n",
    "        res = act[0] * self.cols_num + act[1]\n",
    "        return res\n",
    "    \n",
    "    def step(self, act):\n",
    "        if self.board[act[0], act[1]] != 0:\n",
    "            if self.cur_turn == 1:\n",
    "                reward = -3\n",
    "            else:\n",
    "                reward = 3\n",
    "            res = self.get_state(), reward, True, {}\n",
    "            return res\n",
    "        \n",
    "        self.move(self.cur_turn, act[0], act[1])\n",
    "        reward = self.is_fin()\n",
    "        self.cur_turn = -self.cur_turn\n",
    "        return self.get_state(), 0 if reward is None else reward, reward is not None, {}\n",
    "\n",
    "    def reset(self):\n",
    "        self.board = np.zeros((self.rows_num, self.cols_num), dtype=int)\n",
    "        self.board_hash = None\n",
    "        self.game_over = False\n",
    "        self.empties = None\n",
    "        self.cur_turn = 1"
   ]
  },
  {
   "cell_type": "code",
   "execution_count": 5,
   "metadata": {},
   "outputs": [],
   "source": [
    "def draw_board(env, pi, showtext=True, verbose=True, fontq=20, fontx=60):\n",
    "    fig, ax = plt.subplots(1, 1, figsize=(6, 6))\n",
    "    X, Y = np.meshgrid(np.arange(0, env.rows_num), np.arange(0, env.rows_num))\n",
    "    Z = np.zeros((env.rows_num, env.cols_num)) + 0.01\n",
    "    s, actions = env.get_hash(), env.get_empties()\n",
    "    \n",
    "    if pi is not None and s in pi.Q:\n",
    "        for i, a in enumerate(actions):\n",
    "            Z[a[0], a[1]] = pi.Q[s][i]\n",
    "            \n",
    "    ax.set_xticks([])\n",
    "    ax.set_yticks([])\n",
    "    \n",
    "    surf = ax.imshow(Z, cmap=plt.get_cmap('Accent', 10), vmin=-1, vmax=1)\n",
    "    if showtext:\n",
    "        for i, a in enumerate(actions):\n",
    "            if pi is not None and s in pi.Q:\n",
    "                ax.text(\n",
    "                    a[1],\n",
    "                    a[0],\n",
    "                    \"%.3f\" % pi.Q[s][i],\n",
    "                    fontsize=fontq,\n",
    "                    horizontalalignment='center',\n",
    "                    verticalalignment='center',\n",
    "                    color=\"w\"\n",
    "                )\n",
    "    for i in range(env.rows_num):\n",
    "        for j in range(env.cols_num):\n",
    "            if env.board[i, j] == -1:\n",
    "                ax.text(\n",
    "                    j,\n",
    "                    i,\n",
    "                    \"O\",\n",
    "                    fontsize=fontx,\n",
    "                    horizontalalignment='center',\n",
    "                    verticalalignment='center',\n",
    "                    color=\"w\"\n",
    "                )\n",
    "            if env.board[i, j] == 1:\n",
    "                ax.text(\n",
    "                    j,\n",
    "                    i,\n",
    "                    \"X\",\n",
    "                    fontsize=fontx,\n",
    "                    horizontalalignment='center',\n",
    "                    verticalalignment='center',\n",
    "                    color=\"w\"\n",
    "                )\n",
    "    cbar = plt.colorbar(surf, ticks=[0, 1])\n",
    "    ax.grid(False)\n",
    "    plt.show()"
   ]
  },
  {
   "cell_type": "code",
   "execution_count": 6,
   "metadata": {},
   "outputs": [],
   "source": [
    "def get_print_move(env, pi, s, actions, random=False, verbose=True, fontq=20, fontx=60):\n",
    "    draw_board(env, pi, fontq=fontq, fontx=fontx)\n",
    "    if verbose and (pi is not None):\n",
    "        if s in pi.Q:\n",
    "            for i,a in enumerate(actions):\n",
    "                print(i, a, pi.Q[s][i])\n",
    "        else:\n",
    "            print(\"Unknown\")\n",
    "    if random:\n",
    "        return np.random.randint(len(actions))\n",
    "    else:\n",
    "        return pi(s, env.cur_turn, len(actions))"
   ]
  },
  {
   "cell_type": "code",
   "execution_count": 7,
   "metadata": {},
   "outputs": [],
   "source": [
    "def draw_test(env, pi1, pi2, random_crosses=False, random_naughts=True, verbose=True, fontq=20, fontx=60):\n",
    "    done = False\n",
    "    env.reset()\n",
    "    \n",
    "    while not done:\n",
    "        s, actions = env.get_hash(), env.get_empties()\n",
    "        if env.cur_turn == 1:\n",
    "            a = get_print_move(\n",
    "                env,\n",
    "                pi1,\n",
    "                s,\n",
    "                actions,\n",
    "                random=random_crosses,\n",
    "                verbose=verbose,\n",
    "                fontq=fontq,\n",
    "                fontx=fontx\n",
    "            )\n",
    "        else:\n",
    "            a = get_print_move(\n",
    "                env,\n",
    "                pi2,\n",
    "                s,\n",
    "                actions,\n",
    "                random=random_naughts,\n",
    "                verbose=verbose,\n",
    "                fontq=fontq,\n",
    "                fontx=fontx\n",
    "            )\n",
    "    \n",
    "        print(a)\n",
    "        observation, reward, done, info = env.step(actions[a])\n",
    "        if reward == 1:\n",
    "            print(\"Crosses\")\n",
    "            draw_board(env, None, showtext=False, fontq=fontq, fontx=fontx)\n",
    "        if reward == -1:\n",
    "            print(\"Zeros\")\n",
    "            draw_board(env, None, showtext=False, fontq=fontq, fontx=fontx)"
   ]
  },
  {
   "cell_type": "code",
   "execution_count": 8,
   "metadata": {},
   "outputs": [],
   "source": [
    "env = TicTacToe()"
   ]
  },
  {
   "cell_type": "code",
   "execution_count": 9,
   "metadata": {},
   "outputs": [],
   "source": [
    "def decay_epsilon_generator(min_eps=0.01, decay=0.99999):\n",
    "    eps = 1\n",
    "    while eps > min_eps:\n",
    "        yield eps\n",
    "        eps *= decay\n",
    "    while 1:\n",
    "        yield min_eps\n",
    "        \n",
    "def const_generator(eps):\n",
    "    while True:\n",
    "        yield eps"
   ]
  },
  {
   "cell_type": "code",
   "execution_count": 10,
   "metadata": {},
   "outputs": [],
   "source": [
    "class Policy:\n",
    "    def __init__(self, learning_rate=0.1):\n",
    "        self.Q = dict()\n",
    "        self.lr = learning_rate\n",
    "        \n",
    "    def __call__(self, s, player, n_a, eps=0): \n",
    "        if s not in self.Q:\n",
    "            self.Q[s] = np.zeros(n_a, dtype=np.float32) - 1e-5\n",
    "            \n",
    "        r_num = np.random.random()\n",
    "        if eps and r_num < eps:\n",
    "            a = np.random.randint(0, n_a)\n",
    "        else:\n",
    "            if player == 1:\n",
    "                a = np.argmax(self.Q[s])\n",
    "            else:\n",
    "                a = np.argmin(self.Q[s])\n",
    "        return a\n",
    "    \n",
    "    def learn(self, s, player, a, n_a, reward, s_next, done):            \n",
    "        if s not in self.Q:\n",
    "            self.Q[s] = np.zeros(n_a, dtype=np.float32)\n",
    "        if done:\n",
    "            self.Q[s][a] += self.lr *(reward - self.Q[s][a])\n",
    "        else:\n",
    "            if s_next in self.Q:\n",
    "                Q_max = np.min(self.Q[s_next]) if player == 1 else np.max(self.Q[s_next])\n",
    "            else: \n",
    "                Q_max = - 1e-5\n",
    "                \n",
    "            self.Q[s][a] += self.lr * (GAMMA * Q_max - self.Q[s][a])\n"
   ]
  },
  {
   "cell_type": "code",
   "execution_count": 11,
   "metadata": {},
   "outputs": [],
   "source": [
    "def run_episode(pi, eps_x, eps_o):\n",
    "    env.reset()\n",
    "    done = False\n",
    "    s = env.get_hash()\n",
    "    while not done:\n",
    "        actions = env.get_empties()\n",
    "        n_a = len(actions)\n",
    "        player = env.cur_turn\n",
    "        if player == 1:\n",
    "            a = pi(s, player, n_a, eps_x)\n",
    "        else:\n",
    "            a = pi(s, player, n_a, eps_o)\n",
    "        observation, reward, done, info = env.step(actions[a])\n",
    "        s_prev, s = s, env.get_hash()\n",
    "        \n",
    "        if player == 1:\n",
    "            pi.learn(s_prev, player, a, n_a, reward, s, done)\n",
    "        else:\n",
    "            pi.learn(s_prev, player, a, n_a, reward, s, done)\n",
    "    return reward\n"
   ]
  },
  {
   "cell_type": "code",
   "execution_count": 12,
   "metadata": {},
   "outputs": [],
   "source": [
    "def draw_reward(lines, legend=None):\n",
    "    plt.rcParams[\"font.size\"] = \"14\" \n",
    "    fig, ax = plt.subplots(figsize=(10, 6))\n",
    "#     ax.set_facecolor(\"seashell\")\n",
    "    plt.ylabel(\"Aver reward\")\n",
    "    plt.xlabel(\"Iteration number\")\n",
    "    for x, y in lines:\n",
    "        plt.plot(x, y)\n",
    "    ax.set_yticks([-1.0, -0.75, -0.5, -0.25, -0.0, 0.25, 0.5, 0.75, 1.0])\n",
    "    if legend is not None:\n",
    "        ax.legend(legend)\n",
    "    ax.grid(); plt.grid()\n",
    "    plt.show()\n",
    "    "
   ]
  },
  {
   "cell_type": "code",
   "execution_count": 13,
   "metadata": {},
   "outputs": [],
   "source": [
    "def play_n_games(pi, x_ticks, eps_x, eps_o):\n",
    "    mean_rewards = []\n",
    "    running_reward = 0\n",
    "    n_games = 0\n",
    "    for i in trange(1, x_ticks[-1]+1):\n",
    "        a = next(eps_x)\n",
    "        b = next(eps_o)\n",
    "        running_reward += run_episode(pi, a, b)\n",
    "        n_games += 1\n",
    "        if i in x_ticks:\n",
    "            mean_rewards.append(running_reward / n_games)\n",
    "            n_games = 0\n",
    "            running_reward = 0\n",
    "    return mean_rewards"
   ]
  },
  {
   "cell_type": "code",
   "execution_count": 14,
   "metadata": {},
   "outputs": [
    {
     "name": "stdout",
     "output_type": "stream",
     "text": [
      "points: [   268    610   1043   1592   2290   3175   4298   5723   7531   9826\n",
      "  12738  16433  21122  27072  34622  44203  56361  71789  91367 116210\n",
      " 147735 187739 238502 302919 384662 488390 620016 787046 999000]\n"
     ]
    }
   ],
   "source": [
    "x = (np.logspace(3, 6, 30).astype(np.int32) - 1000)[1:]\n",
    "print(\"points:\", x)"
   ]
  },
  {
   "cell_type": "code",
   "execution_count": 15,
   "metadata": {},
   "outputs": [
    {
     "data": {
      "application/vnd.jupyter.widget-view+json": {
       "model_id": "01e51ee3e86d43abbb1e924b5f0de8b1",
       "version_major": 2,
       "version_minor": 0
      },
      "text/plain": [
       "HBox(children=(HTML(value=''), FloatProgress(value=0.0, max=999000.0), HTML(value='')))"
      ]
     },
     "metadata": {},
     "output_type": "display_data"
    },
    {
     "name": "stdout",
     "output_type": "stream",
     "text": [
      "\n"
     ]
    },
    {
     "data": {
      "application/vnd.jupyter.widget-view+json": {
       "model_id": "d5d6e9347f6c41e58c2a5921d631203c",
       "version_major": 2,
       "version_minor": 0
      },
      "text/plain": [
       "HBox(children=(HTML(value=''), FloatProgress(value=0.0, max=999000.0), HTML(value='')))"
      ]
     },
     "metadata": {},
     "output_type": "display_data"
    },
    {
     "name": "stdout",
     "output_type": "stream",
     "text": [
      "\n"
     ]
    }
   ],
   "source": [
    "pi = Policy()\n",
    "mean_rewards_o_const = play_n_games(pi, x, const_generator(1), const_generator(.05))\n",
    "\n",
    "pi = Policy()\n",
    "mean_rewards_o_decay = play_n_games(pi, x, const_generator(1), decay_epsilon_generator())"
   ]
  },
  {
   "cell_type": "code",
   "execution_count": 16,
   "metadata": {},
   "outputs": [
    {
     "data": {
      "image/png": "[encoded data removed]",
      "text/plain": [
       "<Figure size 720x432 with 1 Axes>"
      ]
     },
     "metadata": {
      "needs_background": "light"
     },
     "output_type": "display_data"
    }
   ],
   "source": [
    "draw_reward([(x, mean_rewards_o_const), (x, mean_rewards_o_decay)], ['const', 'decay'])"
   ]
  },
  {
   "cell_type": "code",
   "execution_count": 17,
   "metadata": {},
   "outputs": [
    {
     "data": {
      "application/vnd.jupyter.widget-view+json": {
       "model_id": "3a3395647f1d41cfa4202d4fafeca76d",
       "version_major": 2,
       "version_minor": 0
      },
      "text/plain": [
       "HBox(children=(HTML(value=''), FloatProgress(value=0.0, max=9000.0), HTML(value='')))"
      ]
     },
     "metadata": {},
     "output_type": "display_data"
    },
    {
     "name": "stdout",
     "output_type": "stream",
     "text": [
      "\n"
     ]
    }
   ],
   "source": [
    "x = (np.logspace(3, 4, 20).astype(np.int32) - 1000)[1:]\n",
    "mean_rewards_xo_greed = play_n_games(pi, x, const_generator(0.01), const_generator(0.01))"
   ]
  },
  {
   "cell_type": "code",
   "execution_count": 18,
   "metadata": {},
   "outputs": [
    {
     "data": {
      "image/png": "[encoded data removed]",
      "text/plain": [
       "<Figure size 720x432 with 1 Axes>"
      ]
     },
     "metadata": {
      "needs_background": "light"
     },
     "output_type": "display_data"
    }
   ],
   "source": [
    "draw_reward([(x, mean_rewards_xo_greed)], ['greed'])"
   ]
  },
  {
   "cell_type": "code",
   "execution_count": 19,
   "metadata": {},
   "outputs": [
    {
     "data": {
      "application/vnd.jupyter.widget-view+json": {
       "model_id": "00f6ce07c2b84e208b77c0da24411f1d",
       "version_major": 2,
       "version_minor": 0
      },
      "text/plain": [
       "HBox(children=(HTML(value=''), FloatProgress(value=0.0, max=99000.0), HTML(value='')))"
      ]
     },
     "metadata": {},
     "output_type": "display_data"
    },
    {
     "name": "stdout",
     "output_type": "stream",
     "text": [
      "\n"
     ]
    },
    {
     "data": {
      "application/vnd.jupyter.widget-view+json": {
       "model_id": "0ff0a40a5ab045a5a1fd8fbece3a9046",
       "version_major": 2,
       "version_minor": 0
      },
      "text/plain": [
       "HBox(children=(HTML(value=''), FloatProgress(value=0.0, max=99000.0), HTML(value='')))"
      ]
     },
     "metadata": {},
     "output_type": "display_data"
    },
    {
     "name": "stdout",
     "output_type": "stream",
     "text": [
      "\n"
     ]
    }
   ],
   "source": [
    "x = (np.logspace(3, 5, 30).astype(np.int32) - 1000)[1:]\n",
    "\n",
    "pi = Policy()\n",
    "mean_rewards_x_const = play_n_games(pi, x, const_generator(.05), const_generator(1))\n",
    "\n",
    "pi = Policy()\n",
    "mean_rewards_x_decay = play_n_games(pi, x, decay_epsilon_generator(), const_generator(1))"
   ]
  },
  {
   "cell_type": "code",
   "execution_count": 20,
   "metadata": {},
   "outputs": [
    {
     "data": {
      "image/png": "[encoded data removed]",
      "text/plain": [
       "<Figure size 720x432 with 1 Axes>"
      ]
     },
     "metadata": {
      "needs_background": "light"
     },
     "output_type": "display_data"
    }
   ],
   "source": [
    "draw_reward([(x, mean_rewards_x_const), (x, mean_rewards_x_decay)], ['const', 'decay'])"
   ]
  },
  {
   "cell_type": "code",
   "execution_count": 21,
   "metadata": {},
   "outputs": [
    {
     "data": {
      "application/vnd.jupyter.widget-view+json": {
       "model_id": "c7473651dc2e4f04a8c68f019a39f6a3",
       "version_major": 2,
       "version_minor": 0
      },
      "text/plain": [
       "HBox(children=(HTML(value=''), FloatProgress(value=0.0, max=9000.0), HTML(value='')))"
      ]
     },
     "metadata": {},
     "output_type": "display_data"
    },
    {
     "name": "stdout",
     "output_type": "stream",
     "text": [
      "\n"
     ]
    }
   ],
   "source": [
    "x = (np.logspace(3, 4, 20).astype(np.int32) - 1000)[1:]\n",
    "mean_rewards_xo_greed = play_n_games(pi, x, const_generator(0.01), const_generator(0.01))"
   ]
  },
  {
   "cell_type": "code",
   "execution_count": 22,
   "metadata": {},
   "outputs": [
    {
     "data": {
      "image/png": "[encoded data removed]",
      "text/plain": [
       "<Figure size 720x432 with 1 Axes>"
      ]
     },
     "metadata": {
      "needs_background": "light"
     },
     "output_type": "display_data"
    }
   ],
   "source": [
    "draw_reward([(x, mean_rewards_xo_greed)], ['greed'])"
   ]
  },
  {
   "cell_type": "code",
   "execution_count": 23,
   "metadata": {},
   "outputs": [
    {
     "data": {
      "application/vnd.jupyter.widget-view+json": {
       "model_id": "f99cc55b772c41849aaeb7e102583edb",
       "version_major": 2,
       "version_minor": 0
      },
      "text/plain": [
       "HBox(children=(HTML(value=''), FloatProgress(value=0.0, max=999000.0), HTML(value='')))"
      ]
     },
     "metadata": {},
     "output_type": "display_data"
    },
    {
     "name": "stdout",
     "output_type": "stream",
     "text": [
      "\n"
     ]
    }
   ],
   "source": [
    "x = (np.logspace(3, 6, 30).astype(np.int32) - 10**3)[1:]\n",
    "\n",
    "pi = Policy()\n",
    "mean_rewards_xo_decay = play_n_games(pi, x, decay_epsilon_generator(), decay_epsilon_generator())"
   ]
  },
  {
   "cell_type": "code",
   "execution_count": 24,
   "metadata": {},
   "outputs": [
    {
     "data": {
      "image/png": "[encoded data removed]",
      "text/plain": [
       "<Figure size 720x432 with 1 Axes>"
      ]
     },
     "metadata": {
      "needs_background": "light"
     },
     "output_type": "display_data"
    }
   ],
   "source": [
    "draw_reward([(x, mean_rewards_xo_decay)], ['decay XO'])"
   ]
  },
  {
   "cell_type": "code",
   "execution_count": 25,
   "metadata": {},
   "outputs": [
    {
     "data": {
      "image/png": "[encoded data removed]",
      "text/plain": [
       "<Figure size 432x432 with 2 Axes>"
      ]
     },
     "metadata": {
      "needs_background": "light"
     },
     "output_type": "display_data"
    },
    {
     "name": "stdout",
     "output_type": "stream",
     "text": [
      "0 [0 0] -5e-44\n",
      "1 [0 1] -4.46604e-40\n",
      "2 [0 2] -5e-44\n",
      "3 [1 0] -1.3145057e-35\n",
      "4 [1 1] -3.945066e-39\n",
      "5 [1 2] -9.134288e-33\n",
      "6 [2 0] -5e-44\n",
      "7 [2 1] -2.3840314e-31\n",
      "8 [2 2] -5e-44\n",
      "0\n"
     ]
    },
    {
     "data": {
      "image/png": "[encoded data removed]",
      "text/plain": [
       "<Figure size 432x432 with 2 Axes>"
      ]
     },
     "metadata": {
      "needs_background": "light"
     },
     "output_type": "display_data"
    },
    {
     "name": "stdout",
     "output_type": "stream",
     "text": [
      "0 [0 1] 0.99999857\n",
      "1 [0 2] 0.99999857\n",
      "2 [1 0] 0.99999857\n",
      "3 [1 1] -4.5e-44\n",
      "4 [1 2] 0.99999857\n",
      "5 [2 0] 0.99999857\n",
      "6 [2 1] 0.99999857\n",
      "7 [2 2] 0.99999857\n",
      "3\n"
     ]
    },
    {
     "data": {
      "image/png": "[encoded data removed]",
      "text/plain": [
       "<Figure size 432x432 with 2 Axes>"
      ]
     },
     "metadata": {
      "needs_background": "light"
     },
     "output_type": "display_data"
    },
    {
     "name": "stdout",
     "output_type": "stream",
     "text": [
      "0 [0 1] -3.9e-44\n",
      "1 [0 2] -9.448252e-30\n",
      "2 [1 0] -3.9e-44\n",
      "3 [1 2] -1.7019955e-25\n",
      "4 [2 0] -3.9e-44\n",
      "5 [2 1] -9.630671e-25\n",
      "6 [2 2] -3.725577e-31\n",
      "0\n"
     ]
    },
    {
     "data": {
      "image/png": "[encoded data removed]",
      "text/plain": [
       "<Figure size 432x432 with 2 Axes>"
      ]
     },
     "metadata": {
      "needs_background": "light"
     },
     "output_type": "display_data"
    },
    {
     "name": "stdout",
     "output_type": "stream",
     "text": [
      "0 [0 2] -3.4e-44\n",
      "1 [1 0] 0.9999995\n",
      "2 [1 2] 0.9999995\n",
      "3 [2 0] 0.9999995\n",
      "4 [2 1] 0.9999995\n",
      "5 [2 2] 0.9999995\n",
      "0\n"
     ]
    },
    {
     "data": {
      "image/png": "[encoded data removed]",
      "text/plain": [
       "<Figure size 432x432 with 2 Axes>"
      ]
     },
     "metadata": {
      "needs_background": "light"
     },
     "output_type": "display_data"
    },
    {
     "name": "stdout",
     "output_type": "stream",
     "text": [
      "0 [1 0] -0.9999995\n",
      "1 [1 2] -0.9999995\n",
      "2 [2 0] -2.8e-44\n",
      "3 [2 1] -0.9999995\n",
      "4 [2 2] -0.9999995\n",
      "2\n"
     ]
    },
    {
     "data": {
      "image/png": "[encoded data removed]",
      "text/plain": [
       "<Figure size 432x432 with 2 Axes>"
      ]
     },
     "metadata": {
      "needs_background": "light"
     },
     "output_type": "display_data"
    },
    {
     "name": "stdout",
     "output_type": "stream",
     "text": [
      "0 [1 0] -2.2e-44\n",
      "1 [1 2] 0.9999995\n",
      "2 [2 1] 0.9999995\n",
      "3 [2 2] 0.9999995\n",
      "0\n"
     ]
    },
    {
     "data": {
      "image/png": "[encoded data removed]",
      "text/plain": [
       "<Figure size 432x432 with 2 Axes>"
      ]
     },
     "metadata": {
      "needs_background": "light"
     },
     "output_type": "display_data"
    },
    {
     "name": "stdout",
     "output_type": "stream",
     "text": [
      "0 [1 2] -1.7e-44\n",
      "1 [2 1] -0.9999995\n",
      "2 [2 2] -0.9999995\n",
      "0\n"
     ]
    },
    {
     "data": {
      "image/png": "[encoded data removed]",
      "text/plain": [
       "<Figure size 432x432 with 2 Axes>"
      ]
     },
     "metadata": {
      "needs_background": "light"
     },
     "output_type": "display_data"
    },
    {
     "name": "stdout",
     "output_type": "stream",
     "text": [
      "0 [2 1] -1.1e-44\n",
      "1 [2 2] -1.1e-44\n",
      "0\n"
     ]
    },
    {
     "data": {
      "image/png": "[encoded data removed]",
      "text/plain": [
       "<Figure size 432x432 with 2 Axes>"
      ]
     },
     "metadata": {
      "needs_background": "light"
     },
     "output_type": "display_data"
    },
    {
     "name": "stdout",
     "output_type": "stream",
     "text": [
      "0 [2 2] -6e-45\n",
      "0\n"
     ]
    }
   ],
   "source": [
    "draw_test(env, pi, pi, random_crosses=False, random_naughts=False, verbose=True, fontx=20)"
   ]
  },
  {
   "cell_type": "code",
   "execution_count": 26,
   "metadata": {},
   "outputs": [],
   "source": [
    "env = TicTacToe(rows_num=5, cols_num=5, win_num=4)"
   ]
  },
  {
   "cell_type": "code",
   "execution_count": 27,
   "metadata": {},
   "outputs": [
    {
     "data": {
      "application/vnd.jupyter.widget-view+json": {
       "model_id": "f438e760dc0e4cd0831b513acdad11c1",
       "version_major": 2,
       "version_minor": 0
      },
      "text/plain": [
       "HBox(children=(HTML(value=''), FloatProgress(value=0.0, max=99000.0), HTML(value='')))"
      ]
     },
     "metadata": {},
     "output_type": "display_data"
    },
    {
     "name": "stdout",
     "output_type": "stream",
     "text": [
      "\n"
     ]
    }
   ],
   "source": [
    "x = (np.logspace(3, 5, 30).astype(np.int32) - 10**3)[1:]\n",
    "\n",
    "pi = Policy()\n",
    "mean_rewards_o_decay = play_n_games(pi, x, const_generator(1), decay_epsilon_generator())"
   ]
  },
  {
   "cell_type": "code",
   "execution_count": 28,
   "metadata": {},
   "outputs": [
    {
     "data": {
      "image/png": "[encoded data removed]",
      "text/plain": [
       "<Figure size 720x432 with 1 Axes>"
      ]
     },
     "metadata": {
      "needs_background": "light"
     },
     "output_type": "display_data"
    }
   ],
   "source": [
    "draw_reward([(x, mean_rewards_o_decay)], ['decay O'])"
   ]
  },
  {
   "cell_type": "markdown",
   "metadata": {},
   "source": [
    "### Часть вторая"
   ]
  },
  {
   "cell_type": "code",
   "execution_count": 29,
   "metadata": {},
   "outputs": [],
   "source": [
    "env = TicTacToe(rows_num=3, cols_num=3, win_num=3)"
   ]
  },
  {
   "cell_type": "code",
   "execution_count": 30,
   "metadata": {},
   "outputs": [],
   "source": [
    "class ReplayMemory():\n",
    "    def __init__(self, capacity):\n",
    "        self.capacity = capacity\n",
    "        self.memory = list()\n",
    "        self.position = 0\n",
    "\n",
    "    def store(self, exptuple):\n",
    "        if len(self.memory) < self.capacity:\n",
    "            self.memory.append(None)\n",
    "            \n",
    "        self.memory[self.position] = exptuple\n",
    "        self.position = (self.position + 1) % self.capacity\n",
    "       \n",
    "    def sample(self, batch_size=64):\n",
    "        return random.sample(self.memory, batch_size)\n",
    "    \n",
    "    def __len__(self):\n",
    "        return len(self.memory)\n"
   ]
  },
  {
   "cell_type": "code",
   "execution_count": 31,
   "metadata": {},
   "outputs": [],
   "source": [
    "class NN(nn.Module):\n",
    "    def __init__(self, n_filters=384):\n",
    "        nn.Module.__init__(self)\n",
    "        self.conv = nn.Conv2d(1, n_filters, (3, 3))\n",
    "        self.fc1 = nn.Linear(n_filters + 1, n_filters // 2)\n",
    "        self.fc2 = nn.Linear(n_filters //2 , 9)\n",
    "\n",
    "    def forward(self, state, player):\n",
    "        x = F.relu(self.conv(state))\n",
    "        x = torch.flatten(x, 1)\n",
    "        batch_size = x.size(0)\n",
    "        x = torch.cat((x, player.view(batch_size, 1)), dim=1)\n",
    "        x = F.relu(self.fc1(x))\n",
    "        x = self.fc2(x)\n",
    "        return x"
   ]
  },
  {
   "cell_type": "code",
   "execution_count": 32,
   "metadata": {},
   "outputs": [],
   "source": [
    "class DQN():\n",
    "    def __init__(self, rows_num=3, cols_num=3, win_num=3):\n",
    "        self.env = TicTacToe(rows_num, cols_num, win_num)\n",
    "        self.model = NN()\n",
    "        self.memory = ReplayMemory(10000)\n",
    "        self.optimizer = optim.Adam(self.model.parameters(), 0.004)\n",
    "        self.steps_done = 0\n",
    "        self.gamma = 0.8\n",
    "        self.eps_init = 0.9\n",
    "        self.eps_final = 0.5\n",
    "        self.eps_decay = 200\n",
    "        self.num_step = 0\n",
    "        \n",
    "    def set_lr(self,lr):\n",
    "        self.optimizer = optim.Adam(self.model.parameters(), lr)\n",
    "    \n",
    "    def select_greedy_action(self, state, player):\n",
    "        if player.item() == 1.0:\n",
    "            return self.model(state, player).max(1)[1].view(1)\n",
    "        elif player.item() == -1.0:\n",
    "            return self.model(state, player).min(1)[1].view(1)\n",
    "        else:\n",
    "            raise\n",
    "    \n",
    "    def select_action(self, state, player):\n",
    "        sample = random.random()\n",
    "        self.num_step += 1\n",
    "        eps_threshold = self.eps_final + (\n",
    "            self.eps_init - self.eps_final\n",
    "        ) * math.exp(-1. * self.num_step / self.eps_decay)\n",
    "        if sample > eps_threshold:\n",
    "            res = self.select_greedy_action(state, player.unsqueeze(0).unsqueeze(0))\n",
    "        else:\n",
    "            res = torch.tensor([[random.randrange(len(self.env.get_empties()))]], dtype=torch.int64)\n",
    "        return res\n",
    "\n",
    "    def run_episode(self, greedy_x=False, random_x=False, greedy_o=False, random_o=False, verbose=False):\n",
    "        self.model.eval()\n",
    "        self.env.reset()\n",
    "        player_x = torch.tensor(1.0, dtype=torch.float32)\n",
    "        player_o = torch.tensor(-1.0, dtype=torch.float32)\n",
    "        state = prev_state = torch.Tensor(self.env.board).unsqueeze(0).unsqueeze(0)\n",
    "        assert tuple(prev_state.size()) == (1, 1, 3, 3) \n",
    "        assert self.env.cur_turn == 1\n",
    "        with torch.no_grad():\n",
    "            player = player_x.detach().clone()\n",
    "            if random_x:\n",
    "                action_x = self.env.get_empties()[random.randrange(len(self.env.get_empties()))]\n",
    "                action_x = torch.tensor(self.env.get_int_from_act(action_x)).view(1)            \n",
    "            elif greedy_x:\n",
    "                action_x = self.select_greedy_action(state, player)\n",
    "            else:\n",
    "                action_x = self.select_action(state, torch.ones(1)).view(1)\n",
    "\n",
    "        _, reward_x, done, _ = self.env.step(\n",
    "                self.env.get_act_from_int(action_x.item()))\n",
    "        if verbose:\n",
    "            print(self.env.board)\n",
    "        state = torch.Tensor(self.env.board).unsqueeze(0).unsqueeze(0)\n",
    "        assert tuple(state.size()) == (1, 1, 3, 3)\n",
    "        while not done:\n",
    "            if verbose:\n",
    "                print('Zero')\n",
    "            assert self.env.cur_turn == -1\n",
    "            player = player_o.detach().clone()\n",
    "            with torch.no_grad():\n",
    "                if random_o:\n",
    "                    action_o = self.env.get_empties()[random.randrange(len(self.env.get_empties()))]\n",
    "                    action_o = torch.tensor(self.env.get_int_from_act(action_o)).view(1)\n",
    "                elif greedy_o:\n",
    "                    action_o = self.select_greedy_action(state, player)\n",
    "                else:\n",
    "                    action_o = self.select_action(state, player).view(1)\n",
    "            _, reward_o, done, _ = self.env.step(\n",
    "                    self.env.get_act_from_int(action_o.item()))\n",
    "            next_state = torch.Tensor(self.env.board).unsqueeze(0).unsqueeze(0)\n",
    "            if verbose:\n",
    "                print(self.env.board)\n",
    "            exptuple = (\n",
    "                prev_state.detach().clone(),\n",
    "                action_x,\n",
    "                torch.Tensor([reward_x + reward_o]),\n",
    "                next_state, \n",
    "                player_x.detach().clone(),\n",
    "                torch.BoolTensor([done])  \n",
    "            )\n",
    "            self.memory.store(exptuple)\n",
    "            if done:\n",
    "                exptuple = (\n",
    "                    state.detach().clone(),\n",
    "                    action_o,\n",
    "                    torch.Tensor([reward_o]),\n",
    "                    next_state,\n",
    "                    player_o.detach().clone(),\n",
    "                    torch.BoolTensor([True])              \n",
    "                )\n",
    "                self.memory.store(exptuple)\n",
    "                break            \n",
    "            \n",
    "            prev_state, state = state, next_state\n",
    "            if verbose:\n",
    "                print('Cross')\n",
    "            assert self.env.cur_turn == 1\n",
    "            player = player_x.detach().clone()\n",
    "            with torch.no_grad():\n",
    "                if random_x:\n",
    "                    action_x = self.env.get_empties()[random.randrange(len(self.env.get_empties()))]\n",
    "                    action_x = torch.tensor(self.env.get_int_from_act(action_x)).view(1)            \n",
    "                elif greedy_x:\n",
    "                    action_x = self.select_greedy_action(state, player)\n",
    "                else:\n",
    "                    action_x = self.select_action(state, player).view(1)\n",
    "            _, reward_x, done, _ = self.env.step(\n",
    "                self.env.get_act_from_int(action_x.item()))\n",
    "            next_state = torch.Tensor(self.env.board).unsqueeze(0).unsqueeze(0)\n",
    "            if verbose:\n",
    "                print(self.env.board)\n",
    "            exptuple = (\n",
    "                prev_state.detach().clone(),\n",
    "                action_o,\n",
    "                torch.Tensor([reward_x + reward_o]),\n",
    "                next_state,\n",
    "                player_o.detach().clone(),\n",
    "                torch.BoolTensor([done])\n",
    "            )\n",
    "            self.memory.store(exptuple)\n",
    "            if done:\n",
    "                exptuple = (\n",
    "                    state.detach().clone(),\n",
    "                    action_x,\n",
    "                    torch.Tensor([reward_x]),\n",
    "                    next_state,\n",
    "                    player_x.detach().clone(),\n",
    "                    torch.BoolTensor([True]) \n",
    "                )\n",
    "                self.memory.store(exptuple)\n",
    "                break       \n",
    "            prev_state, state = state, next_state\n",
    "        return reward_x + reward_o\n",
    "        \n",
    "    def learn(self, batch_size):\n",
    "        self.model.train()\n",
    "        if len(self.memory) < batch_size:\n",
    "            return\n",
    "        \n",
    "        exp_batch = list(zip(*self.memory.sample(batch_size)))   \n",
    "        batch_state = Variable(torch.cat(exp_batch[0]))\n",
    "        batch_action = Variable(torch.stack(exp_batch[1]))\n",
    "        batch_reward = Variable(torch.stack(exp_batch[2]))\n",
    "        batch_next_state = Variable(torch.cat(exp_batch[3]))\n",
    "        batch_player = Variable(torch.stack(exp_batch[4]))\n",
    "        batch_done = Variable(torch.stack(exp_batch[5]))\n",
    "        Q = self.model(batch_state, batch_player).gather(1, batch_action).reshape([batch_size])\n",
    "        Qmax = self.model(batch_next_state, batch_player).detach().max(1)[0]\n",
    "        Qmin = self.model(batch_next_state, batch_player).detach().min(1)[0]\n",
    "        assert batch_player.size() == Qmax.size() == Qmin.size()\n",
    "        Qmm = torch.where(batch_player > 0, Qmax, Qmin).view(-1, 1) * self.gamma\n",
    "        assert batch_done.size() == batch_reward.size() == Qmm.size()\n",
    "        Qnext = torch.where(batch_done, batch_reward, Qmm).view(-1)     \n",
    "        loss = F.mse_loss(Q, Qnext)\n",
    "        self.optimizer.zero_grad()\n",
    "        loss.backward()\n",
    "        self.optimizer.step()\n",
    "        return loss\n",
    "        "
   ]
  },
  {
   "cell_type": "code",
   "execution_count": 33,
   "metadata": {},
   "outputs": [],
   "source": [
    "game = DQN()"
   ]
  },
  {
   "cell_type": "code",
   "execution_count": 34,
   "metadata": {},
   "outputs": [],
   "source": [
    "running_reward_x = 0\n",
    "for i in range(1000):\n",
    "    running_reward_x += game.run_episode(greedy_x=True, random_o=True)"
   ]
  },
  {
   "cell_type": "code",
   "execution_count": 35,
   "metadata": {},
   "outputs": [],
   "source": [
    "running_reward_o = 0\n",
    "for i in range(1000):\n",
    "    running_reward_o += game.run_episode(greedy_o=True, random_x=True)"
   ]
  },
  {
   "cell_type": "code",
   "execution_count": 36,
   "metadata": {},
   "outputs": [
    {
     "name": "stdout",
     "output_type": "stream",
     "text": [
      "Init reward is:  -5.962\n"
     ]
    }
   ],
   "source": [
    "best_reward = running_reward_x / 1000 - running_reward_o/1000 \n",
    "print('Init reward is: ', best_reward)"
   ]
  },
  {
   "cell_type": "code",
   "execution_count": 37,
   "metadata": {},
   "outputs": [
    {
     "name": "stdout",
     "output_type": "stream",
     "text": [
      "Epoch num is: 0, reward is: -5.560, loss is: 2.425\n",
      "Epoch num is: 1, reward is: -5.360, loss is: 2.855\n",
      "Epoch num is: 2, reward is: -4.400, loss is: 1.922\n",
      "Epoch num is: 3, reward is: -2.270, loss is: 1.033\n",
      "Epoch num is: 4, reward is: -0.210, loss is: 0.760\n",
      "Epoch num is: 5, reward is: -0.350, loss is: 0.711\n",
      "Epoch num is: 6, reward is: 0.010, loss is: 0.688\n",
      "Epoch num is: 7, reward is: 0.270, loss is: 0.667\n",
      "Epoch num is: 8, reward is: 0.530, loss is: 0.642\n",
      "Epoch num is: 9, reward is: 0.150, loss is: 0.654\n",
      "Epoch num is: 10, reward is: 0.730, loss is: 0.649\n",
      "Epoch num is: 11, reward is: 0.540, loss is: 0.644\n",
      "Epoch num is: 12, reward is: 0.760, loss is: 0.635\n",
      "Epoch num is: 13, reward is: 0.610, loss is: 0.633\n",
      "Epoch num is: 14, reward is: 0.610, loss is: 0.649\n",
      "Epoch num is: 15, reward is: 0.760, loss is: 0.651\n",
      "Epoch num is: 16, reward is: 0.530, loss is: 0.640\n",
      "Epoch num is: 17, reward is: 0.690, loss is: 0.633\n",
      "Epoch num is: 18, reward is: 0.780, loss is: 0.629\n",
      "Epoch num is: 19, reward is: 0.840, loss is: 0.630\n",
      "Epoch num is: 20, reward is: 0.390, loss is: 0.643\n",
      "Epoch num is: 21, reward is: 0.690, loss is: 0.635\n",
      "Epoch num is: 22, reward is: 0.300, loss is: 0.638\n",
      "Epoch num is: 23, reward is: 0.520, loss is: 0.640\n",
      "Epoch num is: 24, reward is: 0.600, loss is: 0.628\n",
      "Epoch num is: 25, reward is: 0.790, loss is: 0.620\n",
      "Epoch num is: 26, reward is: 0.880, loss is: 0.610\n",
      "Epoch num is: 27, reward is: 0.800, loss is: 0.628\n",
      "Epoch num is: 28, reward is: 0.920, loss is: 0.639\n",
      "Epoch num is: 29, reward is: 0.750, loss is: 0.612\n",
      "Epoch num is: 30, reward is: 0.430, loss is: 0.617\n",
      "Epoch num is: 31, reward is: 0.920, loss is: 0.614\n",
      "Epoch num is: 32, reward is: 0.440, loss is: 0.612\n",
      "Epoch num is: 33, reward is: 0.520, loss is: 0.614\n",
      "Epoch num is: 34, reward is: 0.390, loss is: 0.608\n",
      "Epoch num is: 35, reward is: 0.660, loss is: 0.603\n",
      "Epoch num is: 36, reward is: 0.710, loss is: 0.600\n",
      "Epoch num is: 37, reward is: 0.570, loss is: 0.630\n",
      "Epoch num is: 38, reward is: 0.610, loss is: 0.633\n",
      "Epoch num is: 39, reward is: 0.380, loss is: 0.613\n",
      "Epoch num is: 40, reward is: 0.900, loss is: 0.602\n",
      "Epoch num is: 41, reward is: 0.720, loss is: 0.614\n",
      "Epoch num is: 42, reward is: 0.720, loss is: 0.631\n",
      "Epoch num is: 43, reward is: 0.620, loss is: 0.615\n",
      "Epoch num is: 44, reward is: 0.450, loss is: 0.632\n",
      "Epoch num is: 45, reward is: 0.930, loss is: 0.615\n",
      "Epoch num is: 46, reward is: 0.800, loss is: 0.617\n",
      "Epoch num is: 47, reward is: 0.590, loss is: 0.620\n",
      "Epoch num is: 48, reward is: 0.660, loss is: 0.633\n",
      "Epoch num is: 49, reward is: 0.630, loss is: 0.606\n"
     ]
    }
   ],
   "source": [
    "best_model = game.model.state_dict()\n",
    "\n",
    "n_epochs = 50\n",
    "for i in range(n_epochs):\n",
    "    running_reward_o = 0\n",
    "    running_reward_x = 0\n",
    "    running_loss = 0\n",
    "    for k in range(100):\n",
    "        for l in range(10):\n",
    "            game.run_episode()\n",
    "        running_reward_o += game.run_episode(greedy_o=True, random_x=True)\n",
    "        running_reward_x += game.run_episode(random_o=True, greedy_x=True)\n",
    "        game.run_episode(random_o=True)\n",
    "        game.run_episode(random_x=True)\n",
    "        game.run_episode(greedy_x=True, greedy_o=True)\n",
    "        running_loss += game.learn(512).item()\n",
    "        \n",
    "    reward = running_reward_x / 100 - running_reward_o / 100\n",
    "    if reward > best_reward:\n",
    "        best_model = game.model.state_dict()\n",
    "    \n",
    "    loss = running_loss / 100\n",
    "    print(f\"Epoch num is: {i}, reward is: {reward:.3f}, loss is: {loss:.3f}\")"
   ]
  },
  {
   "cell_type": "code",
   "execution_count": 38,
   "metadata": {},
   "outputs": [],
   "source": [
    "game.model.load_state_dict(best_model)\n",
    "game.set_lr(0.0005)"
   ]
  },
  {
   "cell_type": "code",
   "execution_count": 39,
   "metadata": {},
   "outputs": [
    {
     "name": "stdout",
     "output_type": "stream",
     "text": [
      "Epoch num is: 0, reward is: 0.780, loss is: 0.654\n",
      "Epoch num is: 1, reward is: 0.780, loss is: 0.689\n",
      "Epoch num is: 2, reward is: 1.010, loss is: 0.670\n",
      "Epoch num is: 3, reward is: 1.160, loss is: 0.649\n",
      "Epoch num is: 4, reward is: 1.200, loss is: 0.646\n",
      "Epoch num is: 5, reward is: 1.390, loss is: 0.638\n",
      "Epoch num is: 6, reward is: 1.080, loss is: 0.619\n",
      "Epoch num is: 7, reward is: 0.940, loss is: 0.619\n",
      "Epoch num is: 8, reward is: 0.970, loss is: 0.618\n",
      "Epoch num is: 9, reward is: 1.370, loss is: 0.630\n",
      "Epoch num is: 10, reward is: 1.470, loss is: 0.628\n",
      "Epoch num is: 11, reward is: 1.110, loss is: 0.629\n",
      "Epoch num is: 12, reward is: 1.280, loss is: 0.635\n",
      "Epoch num is: 13, reward is: 1.340, loss is: 0.645\n",
      "Epoch num is: 14, reward is: 1.410, loss is: 0.635\n",
      "Epoch num is: 15, reward is: 1.340, loss is: 0.647\n",
      "Epoch num is: 16, reward is: 1.460, loss is: 0.632\n",
      "Epoch num is: 17, reward is: 1.110, loss is: 0.631\n",
      "Epoch num is: 18, reward is: 1.180, loss is: 0.618\n",
      "Epoch num is: 19, reward is: 1.400, loss is: 0.611\n",
      "Epoch num is: 20, reward is: 1.240, loss is: 0.621\n",
      "Epoch num is: 21, reward is: 1.400, loss is: 0.640\n",
      "Epoch num is: 22, reward is: 1.290, loss is: 0.611\n",
      "Epoch num is: 23, reward is: 1.340, loss is: 0.631\n",
      "Epoch num is: 24, reward is: 1.310, loss is: 0.645\n",
      "Epoch num is: 25, reward is: 1.410, loss is: 0.645\n",
      "Epoch num is: 26, reward is: 1.350, loss is: 0.632\n",
      "Epoch num is: 27, reward is: 1.410, loss is: 0.628\n",
      "Epoch num is: 28, reward is: 1.390, loss is: 0.615\n",
      "Epoch num is: 29, reward is: 1.270, loss is: 0.620\n",
      "Epoch num is: 30, reward is: 1.430, loss is: 0.622\n",
      "Epoch num is: 31, reward is: 1.470, loss is: 0.634\n",
      "Epoch num is: 32, reward is: 1.210, loss is: 0.616\n",
      "Epoch num is: 33, reward is: 1.310, loss is: 0.633\n",
      "Epoch num is: 34, reward is: 1.140, loss is: 0.616\n",
      "Epoch num is: 35, reward is: 1.390, loss is: 0.641\n",
      "Epoch num is: 36, reward is: 1.250, loss is: 0.629\n",
      "Epoch num is: 37, reward is: 1.410, loss is: 0.621\n",
      "Epoch num is: 38, reward is: 1.520, loss is: 0.631\n",
      "Epoch num is: 39, reward is: 1.420, loss is: 0.609\n",
      "Epoch num is: 40, reward is: 1.370, loss is: 0.603\n",
      "Epoch num is: 41, reward is: 1.290, loss is: 0.595\n",
      "Epoch num is: 42, reward is: 1.080, loss is: 0.621\n",
      "Epoch num is: 43, reward is: 1.160, loss is: 0.614\n",
      "Epoch num is: 44, reward is: 1.300, loss is: 0.618\n",
      "Epoch num is: 45, reward is: 1.170, loss is: 0.613\n",
      "Epoch num is: 46, reward is: 1.600, loss is: 0.617\n",
      "Epoch num is: 47, reward is: 1.330, loss is: 0.621\n",
      "Epoch num is: 48, reward is: 1.360, loss is: 0.618\n",
      "Epoch num is: 49, reward is: 1.490, loss is: 0.607\n"
     ]
    }
   ],
   "source": [
    "n_epochs = 50\n",
    "for i in range(n_epochs):\n",
    "    running_reward_o = 0\n",
    "    running_reward_x = 0\n",
    "    running_loss = 0\n",
    "    for m in range(100):\n",
    "        for l in range(10):\n",
    "            game.run_episode()\n",
    "        running_reward_o += game.run_episode(greedy_o=True, random_x=True)\n",
    "        running_reward_x += game.run_episode(random_o=True, greedy_x=True)\n",
    "        game.run_episode(random_o=True)\n",
    "        game.run_episode(random_x=True)\n",
    "        game.run_episode(greedy_x=True, greedy_o=True)\n",
    "        running_loss += game.learn(512).item()\n",
    "    \n",
    "    reward = running_reward_x / 100 - running_reward_o / 100\n",
    "    if reward > best_reward:\n",
    "        best_model = game.model.state_dict()\n",
    "    \n",
    "    loss = running_loss / 100\n",
    "    print(f\"Epoch num is: {i}, reward is: {reward:.3f}, loss is: {loss:.3f}\")\n"
   ]
  },
  {
   "cell_type": "code",
   "execution_count": 40,
   "metadata": {},
   "outputs": [],
   "source": [
    "running_reward_x = 0\n",
    "for i in range(5000):\n",
    "    running_reward_x += game.run_episode(greedy_x=True, random_o=True)"
   ]
  },
  {
   "cell_type": "code",
   "execution_count": 41,
   "metadata": {},
   "outputs": [],
   "source": [
    "running_reward_o = 0\n",
    "for i in range(5000):\n",
    "    running_reward_o += game.run_episode(greedy_o=True, random_x=True)"
   ]
  },
  {
   "cell_type": "code",
   "execution_count": 42,
   "metadata": {},
   "outputs": [
    {
     "name": "stdout",
     "output_type": "stream",
     "text": [
      "Best reward X is:  0.9074 Best reward O is:  -0.4542\n"
     ]
    }
   ],
   "source": [
    "print('Best reward X is: ', running_reward_x / 5000, 'Best reward O is: ', running_reward_o / 5000)"
   ]
  },
  {
   "cell_type": "code",
   "execution_count": 43,
   "metadata": {},
   "outputs": [
    {
     "data": {
      "text/plain": [
       "<All keys matched successfully>"
      ]
     },
     "execution_count": 43,
     "metadata": {},
     "output_type": "execute_result"
    }
   ],
   "source": [
    "game.model.load_state_dict(best_model)"
   ]
  },
  {
   "cell_type": "code",
   "execution_count": 44,
   "metadata": {},
   "outputs": [],
   "source": [
    "running_reward_x = 0\n",
    "for i in range(5000):\n",
    "    running_reward_x += game.run_episode(greedy_x=True, random_o=True)"
   ]
  },
  {
   "cell_type": "code",
   "execution_count": 45,
   "metadata": {},
   "outputs": [],
   "source": [
    "running_reward_o = 0\n",
    "for i in range(5000):\n",
    "    running_reward_o += game.run_episode(greedy_o=True, random_x=True)"
   ]
  },
  {
   "cell_type": "code",
   "execution_count": 46,
   "metadata": {},
   "outputs": [
    {
     "name": "stdout",
     "output_type": "stream",
     "text": [
      "Best reward X is:  0.8974 Best reward O is:  -0.4446\n"
     ]
    }
   ],
   "source": [
    " print('Best reward X is: ', running_reward_x / 5000, 'Best reward O is: ', running_reward_o / 5000)"
   ]
  },
  {
   "cell_type": "code",
   "execution_count": 47,
   "metadata": {},
   "outputs": [
    {
     "name": "stdout",
     "output_type": "stream",
     "text": [
      "[[0 0 0]\n",
      " [0 0 1]\n",
      " [0 0 0]]\n",
      "Zero\n",
      "[[ 0  0 -1]\n",
      " [ 0  0  1]\n",
      " [ 0  0  0]]\n",
      "Cross\n",
      "[[ 0  0 -1]\n",
      " [ 0  0  1]\n",
      " [ 1  0  0]]\n",
      "Zero\n",
      "[[ 0  0 -1]\n",
      " [ 0 -1  1]\n",
      " [ 1  0  0]]\n",
      "Cross\n",
      "[[ 1  0 -1]\n",
      " [ 0 -1  1]\n",
      " [ 1  0  0]]\n",
      "Zero\n",
      "[[ 1  0 -1]\n",
      " [-1 -1  1]\n",
      " [ 1  0  0]]\n",
      "Cross\n",
      "[[ 1  1 -1]\n",
      " [-1 -1  1]\n",
      " [ 1  0  0]]\n",
      "Zero\n",
      "[[ 1  1 -1]\n",
      " [-1 -1  1]\n",
      " [ 1  0 -1]]\n",
      "Cross\n",
      "[[ 1  1 -1]\n",
      " [-1 -1  1]\n",
      " [ 1  1 -1]]\n"
     ]
    },
    {
     "data": {
      "text/plain": [
       "0"
      ]
     },
     "execution_count": 47,
     "metadata": {},
     "output_type": "execute_result"
    }
   ],
   "source": [
    "game.run_episode(verbose=True)"
   ]
  },
  {
   "cell_type": "code",
   "execution_count": 48,
   "metadata": {},
   "outputs": [],
   "source": [
    "running_reward = 0\n",
    "for _ in range(5000):\n",
    "    running_reward += game.run_episode()"
   ]
  },
  {
   "cell_type": "code",
   "execution_count": 49,
   "metadata": {},
   "outputs": [
    {
     "name": "stdout",
     "output_type": "stream",
     "text": [
      "Best reward is:  0.0404\n"
     ]
    }
   ],
   "source": [
    "print('Best reward is: ', running_reward / 5000)"
   ]
  }
 ],
 "metadata": {
  "kernelspec": {
   "display_name": "Python 3",
   "language": "python",
   "name": "python3"
  },
  "language_info": {
   "codemirror_mode": {
    "name": "ipython",
    "version": 3
   },
   "file_extension": ".py",
   "mimetype": "text/x-python",
   "name": "python",
   "nbconvert_exporter": "python",
   "pygments_lexer": "ipython3",
   "version": "3.8.5"
  }
 },
 "nbformat": 4,
 "nbformat_minor": 4
}
